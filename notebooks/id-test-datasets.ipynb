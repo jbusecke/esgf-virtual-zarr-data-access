{
 "cells": [
  {
   "cell_type": "markdown",
   "id": "ef22c450-2cdc-4ec3-ba00-b7b041a4af8d",
   "metadata": {},
   "source": [
    "Lets find two different unique dataset ids (one netcdf3 one netcdf4) and the corresponding file links.\n",
    "Then we can compare across storage locations and reference files built from these!\n",
    "\n",
    "\n",
    "- [ ] Test virtualizarr \n",
    "- [ ] Merge the main pangeo-forge-esgf once the async client is merged\n",
    "- [ ] Fix the iid generation (with proper generation of member_id) upstream in xmip"
   ]
  },
  {
   "cell_type": "code",
   "execution_count": 1,
   "id": "92cd1106-a567-49f4-b455-2a6bfc88cf21",
   "metadata": {},
   "outputs": [],
   "source": [
    "# !pip install git+https://github.com/jbusecke/pangeo-forge-esgf.git@new-request-scheme"
   ]
  },
  {
   "cell_type": "code",
   "execution_count": 2,
   "id": "253da735-d5d6-4817-8198-f0c93aff7850",
   "metadata": {},
   "outputs": [],
   "source": [
    "# !pip install virtualizarr"
   ]
  },
  {
   "cell_type": "code",
   "execution_count": 3,
   "id": "e227f9b4-5fbe-46ea-a05c-b25d6093fb2d",
   "metadata": {},
   "outputs": [],
   "source": [
    "# !pip install pangeo-forge-esgf"
   ]
  },
  {
   "cell_type": "code",
   "execution_count": 4,
   "id": "24c93244-6103-41db-8dac-0ae039f4f8d5",
   "metadata": {},
   "outputs": [],
   "source": [
    "import xarray as xr\n",
    "from pangeo_forge_esgf.utils import CMIP6_naming_schema"
   ]
  },
  {
   "cell_type": "code",
   "execution_count": 5,
   "id": "7cb6e111-b461-477c-b66b-dca9529295f2",
   "metadata": {},
   "outputs": [],
   "source": [
    "import intake\n",
    "from tqdm.auto import tqdm"
   ]
  },
  {
   "cell_type": "code",
   "execution_count": 14,
   "id": "213ee2eb-3758-49d2-97cc-6b7262150b5a",
   "metadata": {},
   "outputs": [],
   "source": [
    "from xmip.utils import cmip6_dataset_id"
   ]
  },
  {
   "cell_type": "code",
   "execution_count": 6,
   "id": "df28cd3e-9d98-41fd-b74f-eab8c00e2ae1",
   "metadata": {},
   "outputs": [],
   "source": [
    "from virtualizarr.backend import automatically_determine_filetype\n",
    "r_options = {'storage_options':{'anon':True}} #complicated fsspec options for anon s3 access"
   ]
  },
  {
   "cell_type": "code",
   "execution_count": 7,
   "id": "ed5a4e8f-a3c2-4029-bc34-dead38637d77",
   "metadata": {},
   "outputs": [],
   "source": [
    "path = \"s3://esgf-world/CMIP6/CMIP/CCCma/CanESM5/historical/r10i1p1f1/Omon/uo/gn/v20190429/uo_Omon_CanESM5_historical_r10i1p1f1_gn_185001-186012.nc\""
   ]
  },
  {
   "cell_type": "code",
   "execution_count": 8,
   "id": "557710d9-cf93-49b9-9abb-a8f0778b0a3a",
   "metadata": {},
   "outputs": [
    {
     "data": {
      "text/plain": [
       "<FileType.hdf5: 'hdf5'>"
      ]
     },
     "execution_count": 8,
     "metadata": {},
     "output_type": "execute_result"
    }
   ],
   "source": [
    "automatically_determine_filetype(filepath=path, reader_options=r_options)"
   ]
  },
  {
   "cell_type": "code",
   "execution_count": 9,
   "id": "bcda8ffe-2cd4-41ee-9b99-d2da65fa8dce",
   "metadata": {},
   "outputs": [],
   "source": [
    "def make_iid(ds):\n",
    "    iid_schema = CMIP6_naming_schema.replace('.member_id.', '.variant_label.sub_experiment_id.').replace('.version', '')\n",
    "    return '.'.join([ds.attrs[facet] for facet in iid_schema.split('.')])"
   ]
  },
  {
   "cell_type": "code",
   "execution_count": 10,
   "id": "11390401-c158-4330-873e-4f2277bf4cc7",
   "metadata": {},
   "outputs": [
    {
     "data": {
      "text/plain": [
       "'CMIP6.CMIP.CCCma.CanESM5.historical.r10i1p1f1.none.Omon.uo.gn'"
      ]
     },
     "execution_count": 10,
     "metadata": {},
     "output_type": "execute_result"
    }
   ],
   "source": [
    "import fsspec\n",
    "with fsspec.open(path, anon=True) as f:\n",
    "    ds = xr.open_dataset(f)\n",
    "# ds\n",
    "make_iid(ds)"
   ]
  },
  {
   "cell_type": "markdown",
   "id": "6a0a02a8-6e58-43b1-9b78-ec2d1c640502",
   "metadata": {},
   "source": [
    "## Find a dataset with multiple nc3 files in the GFDL holdings."
   ]
  },
  {
   "cell_type": "code",
   "execution_count": 11,
   "id": "0154432d-7b2a-41b5-92e2-70a3454503e0",
   "metadata": {},
   "outputs": [],
   "source": [
    "col = intake.open_esm_datastore(\"https://cmip6-nc.s3.us-east-2.amazonaws.com/esgf-world.json\")"
   ]
  },
  {
   "cell_type": "code",
   "execution_count": 12,
   "id": "bfc23ff6-d842-44c9-8607-0b2f806e1971",
   "metadata": {},
   "outputs": [
    {
     "data": {
      "application/vnd.jupyter.widget-view+json": {
       "model_id": "cc72142501ae4b14a28d0475f1ddfb49",
       "version_major": 2,
       "version_minor": 0
      },
      "text/plain": [
       "  0%|          | 0/104 [00:00<?, ?it/s]"
      ]
     },
     "metadata": {},
     "output_type": "display_data"
    },
    {
     "name": "stdout",
     "output_type": "stream",
     "text": [
      "AWI-ESM-1-1-LRhistoricalua failed with Forbidden\n",
      "project                                                        CMIP6\n",
      "institution_id                                                   BCC\n",
      "source_id                                                BCC-CSM2-MR\n",
      "experiment_id                                             historical\n",
      "frequency                                                        NaN\n",
      "modeling_realm                                                   NaN\n",
      "table_id                                                      6hrLev\n",
      "member_id                                                   r1i1p1f1\n",
      "grid_label                                                        gn\n",
      "variable_id                                                       ps\n",
      "temporal_subset                            195001010000-195412311800\n",
      "version                                                    v20181127\n",
      "path               s3://esgf-world/CMIP6/CMIP/BCC/BCC-CSM2-MR/his...\n",
      "Name: 9000, dtype: object\n",
      "['s3://esgf-world/CMIP6/CMIP/BCC/BCC-CSM2-MR/historical/r1i1p1f1/6hrLev/ps/gn/v20181127/ps_6hrLev_BCC-CSM2-MR_historical_r1i1p1f1_gn_195001010000-195412311800.nc', 's3://esgf-world/CMIP6/CMIP/BCC/BCC-CSM2-MR/historical/r1i1p1f1/6hrLev/ps/gn/v20181127/ps_6hrLev_BCC-CSM2-MR_historical_r1i1p1f1_gn_195501010000-195912311800.nc', 's3://esgf-world/CMIP6/CMIP/BCC/BCC-CSM2-MR/historical/r1i1p1f1/6hrLev/ps/gn/v20181127/ps_6hrLev_BCC-CSM2-MR_historical_r1i1p1f1_gn_196001010000-196412311800.nc', 's3://esgf-world/CMIP6/CMIP/BCC/BCC-CSM2-MR/historical/r1i1p1f1/6hrLev/ps/gn/v20181127/ps_6hrLev_BCC-CSM2-MR_historical_r1i1p1f1_gn_196501010000-196912311800.nc', 's3://esgf-world/CMIP6/CMIP/BCC/BCC-CSM2-MR/historical/r1i1p1f1/6hrLev/ps/gn/v20181127/ps_6hrLev_BCC-CSM2-MR_historical_r1i1p1f1_gn_197001010000-197412311800.nc', 's3://esgf-world/CMIP6/CMIP/BCC/BCC-CSM2-MR/historical/r1i1p1f1/6hrLev/ps/gn/v20181127/ps_6hrLev_BCC-CSM2-MR_historical_r1i1p1f1_gn_197501010000-197912311800.nc', 's3://esgf-world/CMIP6/CMIP/BCC/BCC-CSM2-MR/historical/r1i1p1f1/6hrLev/ps/gn/v20181127/ps_6hrLev_BCC-CSM2-MR_historical_r1i1p1f1_gn_198001010000-198412311800.nc', 's3://esgf-world/CMIP6/CMIP/BCC/BCC-CSM2-MR/historical/r1i1p1f1/6hrLev/ps/gn/v20181127/ps_6hrLev_BCC-CSM2-MR_historical_r1i1p1f1_gn_198501010000-198912311800.nc', 's3://esgf-world/CMIP6/CMIP/BCC/BCC-CSM2-MR/historical/r1i1p1f1/6hrLev/ps/gn/v20181127/ps_6hrLev_BCC-CSM2-MR_historical_r1i1p1f1_gn_199001010000-199412311800.nc', 's3://esgf-world/CMIP6/CMIP/BCC/BCC-CSM2-MR/historical/r1i1p1f1/6hrLev/ps/gn/v20181127/ps_6hrLev_BCC-CSM2-MR_historical_r1i1p1f1_gn_199501010000-199912311800.nc', 's3://esgf-world/CMIP6/CMIP/BCC/BCC-CSM2-MR/historical/r1i1p1f1/6hrLev/ps/gn/v20181127/ps_6hrLev_BCC-CSM2-MR_historical_r1i1p1f1_gn_200001010000-200412311800.nc', 's3://esgf-world/CMIP6/CMIP/BCC/BCC-CSM2-MR/historical/r1i1p1f1/6hrLev/ps/gn/v20181127/ps_6hrLev_BCC-CSM2-MR_historical_r1i1p1f1_gn_200501010000-200912311800.nc', 's3://esgf-world/CMIP6/CMIP/BCC/BCC-CSM2-MR/historical/r1i1p1f1/6hrLev/ps/gn/v20181127/ps_6hrLev_BCC-CSM2-MR_historical_r1i1p1f1_gn_201001010000-201412311800.nc']\n"
     ]
    }
   ],
   "source": [
    "col_fast_iter = col.search(experiment_id='historical', member_id='r1i1p1f1', grid_label='gn')\n",
    "rows = list(col_fast_iter.df.iterrows())\n",
    "# trying to skip a few each time in hopes this will expose a model with netcdf3 output earlier?\n",
    "for i, row in tqdm(rows[0::500]):\n",
    "    path = row['path']\n",
    "    try:\n",
    "        file_type = automatically_determine_filetype(filepath=path, reader_options={'storage_options':{'anon':True}})\n",
    "        if file_type.value == 'netcdf3':\n",
    "            # check the catalog for this file and get all the other relevant files\n",
    "            cat = col.search(**{facet:row[facet] for facet in ['source_id', 'table_id', 'variable_id', 'member_id', 'version', 'experiment_id']})\n",
    "            # only break if this has multiple files (better for the demo)\n",
    "            flist = cat.df['path'].tolist()\n",
    "            if len(flist) > 1:\n",
    "                print(row)\n",
    "                print(flist)\n",
    "                break\n",
    "            else:\n",
    "                print(f\"Found only a single file {flist} for {row['source_id']}{row['experiment_id']}{row['variable_id']}\")\n",
    "    except Exception as e:\n",
    "        print(f\"{row['source_id']}{row['experiment_id']}{row['variable_id']} failed with {e}\")"
   ]
  },
  {
   "cell_type": "code",
   "execution_count": 15,
   "id": "fa0567f9-4703-48be-ada0-ad9044bbb886",
   "metadata": {},
   "outputs": [
    {
     "data": {
      "text/plain": [
       "<FileType.netcdf3: 'netcdf3'>"
      ]
     },
     "execution_count": 15,
     "metadata": {},
     "output_type": "execute_result"
    }
   ],
   "source": [
    "automatically_determine_filetype(filepath=flist[0], reader_options=r_options)"
   ]
  },
  {
   "cell_type": "code",
   "execution_count": 16,
   "id": "d7cb29a2-2430-480a-83f8-6fd72e184ba7",
   "metadata": {},
   "outputs": [
    {
     "data": {
      "text/plain": [
       "'CMIP6.CMIP.BCC.BCC-CSM2-MR.historical.r1i1p1f1.none.6hrLev.ps.gn'"
      ]
     },
     "execution_count": 16,
     "metadata": {},
     "output_type": "execute_result"
    }
   ],
   "source": [
    "with fsspec.open(flist[0], **r_options['storage_options']) as f:\n",
    "    ds = xr.open_dataset(f, chunks={})\n",
    "# cmip6_dataset_id(ds) # this would be a nice target for the warning todo below!!!\n",
    "make_iid(ds)"
   ]
  },
  {
   "cell_type": "markdown",
   "id": "e6db2334-67de-4855-968b-7dacf182ee56",
   "metadata": {},
   "source": [
    "## Found two!\n",
    "\n",
    ">[!WARNING]\n",
    ">The iid generation is messed up. I need a reliable way to go ds-> iid that takes member_id generation into account! Where does this live? Test this against the pgf-esgf async client! [This is discussed here!!!](https://github.com/jbusecke/xMIP/issues/291)\n",
    "> - [ ] Implement this upstream, release, and construct the iids above correctly! \n",
    "\n",
    "### 'CMIP6.CMIP.BCC.BCC-CSM2-MR.historical.r1i1p1f1.none.6hrLev.ps.gn' - NETCDF3\n",
    "\n",
    "S3 Filelist:\n",
    "```\n",
    "'s3://esgf-world/CMIP6/CMIP/BCC/BCC-CSM2-MR/historical/r1i1p1f1/6hrLev/ps/gn/v20181127/ps_6hrLev_BCC-CSM2-MR_historical_r1i1p1f1_gn_195001010000-195412311800.nc',\n",
    "'s3://esgf-world/CMIP6/CMIP/BCC/BCC-CSM2-MR/historical/r1i1p1f1/6hrLev/ps/gn/v20181127/ps_6hrLev_BCC-CSM2-MR_historical_r1i1p1f1_gn_195501010000-195912311800.nc',\n",
    "'s3://esgf-world/CMIP6/CMIP/BCC/BCC-CSM2-MR/historical/r1i1p1f1/6hrLev/ps/gn/v20181127/ps_6hrLev_BCC-CSM2-MR_historical_r1i1p1f1_gn_196001010000-196412311800.nc',\n",
    "'s3://esgf-world/CMIP6/CMIP/BCC/BCC-CSM2-MR/historical/r1i1p1f1/6hrLev/ps/gn/v20181127/ps_6hrLev_BCC-CSM2-MR_historical_r1i1p1f1_gn_196501010000-196912311800.nc',\n",
    "'s3://esgf-world/CMIP6/CMIP/BCC/BCC-CSM2-MR/historical/r1i1p1f1/6hrLev/ps/gn/v20181127/ps_6hrLev_BCC-CSM2-MR_historical_r1i1p1f1_gn_197001010000-197412311800.nc',\n",
    "'s3://esgf-world/CMIP6/CMIP/BCC/BCC-CSM2-MR/historical/r1i1p1f1/6hrLev/ps/gn/v20181127/ps_6hrLev_BCC-CSM2-MR_historical_r1i1p1f1_gn_197501010000-197912311800.nc',\n",
    "'s3://esgf-world/CMIP6/CMIP/BCC/BCC-CSM2-MR/historical/r1i1p1f1/6hrLev/ps/gn/v20181127/ps_6hrLev_BCC-CSM2-MR_historical_r1i1p1f1_gn_198001010000-198412311800.nc',\n",
    "'s3://esgf-world/CMIP6/CMIP/BCC/BCC-CSM2-MR/historical/r1i1p1f1/6hrLev/ps/gn/v20181127/ps_6hrLev_BCC-CSM2-MR_historical_r1i1p1f1_gn_198501010000-198912311800.nc',\n",
    "'s3://esgf-world/CMIP6/CMIP/BCC/BCC-CSM2-MR/historical/r1i1p1f1/6hrLev/ps/gn/v20181127/ps_6hrLev_BCC-CSM2-MR_historical_r1i1p1f1_gn_199001010000-199412311800.nc',\n",
    "'s3://esgf-world/CMIP6/CMIP/BCC/BCC-CSM2-MR/historical/r1i1p1f1/6hrLev/ps/gn/v20181127/ps_6hrLev_BCC-CSM2-MR_historical_r1i1p1f1_gn_199501010000-199912311800.nc',\n",
    "'s3://esgf-world/CMIP6/CMIP/BCC/BCC-CSM2-MR/historical/r1i1p1f1/6hrLev/ps/gn/v20181127/ps_6hrLev_BCC-CSM2-MR_historical_r1i1p1f1_gn_200001010000-200412311800.nc',\n",
    "'s3://esgf-world/CMIP6/CMIP/BCC/BCC-CSM2-MR/historical/r1i1p1f1/6hrLev/ps/gn/v20181127/ps_6hrLev_BCC-CSM2-MR_historical_r1i1p1f1_gn_200501010000-200912311800.nc',\n",
    "'s3://esgf-world/CMIP6/CMIP/BCC/BCC-CSM2-MR/historical/r1i1p1f1/6hrLev/ps/gn/v20181127/ps_6hrLev_BCC-CSM2-MR_historical_r1i1p1f1_gn_201001010000-201412311800.nc'\n",
    "```\n",
    "\n",
    "### 'CMIP6.CMIP.CCCma.CanESM5.historical.r10i1p1f1.none.Omon.uo.gn' - NETCDF4(HDF5)\n",
    "From the `proof-of-concept` notebook\n",
    "\n",
    "```\n",
    "'s3://esgf-world/CMIP6/CMIP/CCCma/CanESM5/historical/r10i1p1f1/Omon/uo/gn/v20190429/uo_Omon_CanESM5_historical_r10i1p1f1_gn_185001-186012.nc',\n",
    "'s3://esgf-world/CMIP6/CMIP/CCCma/CanESM5/historical/r10i1p1f1/Omon/uo/gn/v20190429/uo_Omon_CanESM5_historical_r10i1p1f1_gn_187101-188012.nc',\n",
    "'s3://esgf-world/CMIP6/CMIP/CCCma/CanESM5/historical/r10i1p1f1/Omon/uo/gn/v20190429/uo_Omon_CanESM5_historical_r10i1p1f1_gn_188101-189012.nc',\n",
    "'s3://esgf-world/CMIP6/CMIP/CCCma/CanESM5/historical/r10i1p1f1/Omon/uo/gn/v20190429/uo_Omon_CanESM5_historical_r10i1p1f1_gn_186101-187012.nc',\n",
    "'s3://esgf-world/CMIP6/CMIP/CCCma/CanESM5/historical/r10i1p1f1/Omon/uo/gn/v20190429/uo_Omon_CanESM5_historical_r10i1p1f1_gn_189101-190012.nc',\n",
    "'s3://esgf-world/CMIP6/CMIP/CCCma/CanESM5/historical/r10i1p1f1/Omon/uo/gn/v20190429/uo_Omon_CanESM5_historical_r10i1p1f1_gn_190101-191012.nc',\n",
    "'s3://esgf-world/CMIP6/CMIP/CCCma/CanESM5/historical/r10i1p1f1/Omon/uo/gn/v20190429/uo_Omon_CanESM5_historical_r10i1p1f1_gn_191101-192012.nc',\n",
    "'s3://esgf-world/CMIP6/CMIP/CCCma/CanESM5/historical/r10i1p1f1/Omon/uo/gn/v20190429/uo_Omon_CanESM5_historical_r10i1p1f1_gn_192101-193012.nc',\n",
    "'s3://esgf-world/CMIP6/CMIP/CCCma/CanESM5/historical/r10i1p1f1/Omon/uo/gn/v20190429/uo_Omon_CanESM5_historical_r10i1p1f1_gn_193101-194012.nc',\n",
    "'s3://esgf-world/CMIP6/CMIP/CCCma/CanESM5/historical/r10i1p1f1/Omon/uo/gn/v20190429/uo_Omon_CanESM5_historical_r10i1p1f1_gn_194101-195012.nc',\n",
    "'s3://esgf-world/CMIP6/CMIP/CCCma/CanESM5/historical/r10i1p1f1/Omon/uo/gn/v20190429/uo_Omon_CanESM5_historical_r10i1p1f1_gn_195101-196012.nc',\n",
    "'s3://esgf-world/CMIP6/CMIP/CCCma/CanESM5/historical/r10i1p1f1/Omon/uo/gn/v20190429/uo_Omon_CanESM5_historical_r10i1p1f1_gn_196101-197012.nc',\n",
    "'s3://esgf-world/CMIP6/CMIP/CCCma/CanESM5/historical/r10i1p1f1/Omon/uo/gn/v20190429/uo_Omon_CanESM5_historical_r10i1p1f1_gn_197101-198012.nc',\n",
    "'s3://esgf-world/CMIP6/CMIP/CCCma/CanESM5/historical/r10i1p1f1/Omon/uo/gn/v20190429/uo_Omon_CanESM5_historical_r10i1p1f1_gn_198101-199012.nc',\n",
    "'s3://esgf-world/CMIP6/CMIP/CCCma/CanESM5/historical/r10i1p1f1/Omon/uo/gn/v20190429/uo_Omon_CanESM5_historical_r10i1p1f1_gn_199101-200012.nc',\n",
    "'s3://esgf-world/CMIP6/CMIP/CCCma/CanESM5/historical/r10i1p1f1/Omon/uo/gn/v20190429/uo_Omon_CanESM5_historical_r10i1p1f1_gn_200101-201012.nc',\n",
    "'s3://esgf-world/CMIP6/CMIP/CCCma/CanESM5/historical/r10i1p1f1/Omon/uo/gn/v20190429/uo_Omon_CanESM5_historical_r10i1p1f1_gn_201101-201412.nc'\n",
    "```"
   ]
  },
  {
   "cell_type": "markdown",
   "id": "c83ac46d-8274-4313-b7a5-59c9a5498539",
   "metadata": {},
   "source": [
    "## Get the equivalent ESGF urls"
   ]
  },
  {
   "cell_type": "code",
   "execution_count": 17,
   "id": "924025a9-350c-4219-b051-7e29f7264f1f",
   "metadata": {},
   "outputs": [],
   "source": [
    "from pangeo_forge_esgf.async_client import ESGFAsyncClient, get_sorted_http_urls_from_iid_dict"
   ]
  },
  {
   "cell_type": "code",
   "execution_count": 18,
   "id": "d6e7923b-7de2-45d5-b908-c1dd4305c750",
   "metadata": {},
   "outputs": [
    {
     "name": "stderr",
     "output_type": "stream",
     "text": [
      "100%|██████████| 7/7 [00:01<00:00,  6.07it/s]\n",
      "100%|██████████| 7/7 [00:01<00:00,  5.51it/s]\n"
     ]
    },
    {
     "data": {
      "text/plain": [
       "['http://esgf-node.ornl.gov/thredds/fileServer/css03_data/CMIP6/CMIP/CCCma/CanESM5/historical/r10i1p1f1/Omon/uo/gn/v20190429/uo_Omon_CanESM5_historical_r10i1p1f1_gn_185001-186012.nc',\n",
       " 'http://esgf-node.ornl.gov/thredds/fileServer/css03_data/CMIP6/CMIP/CCCma/CanESM5/historical/r10i1p1f1/Omon/uo/gn/v20190429/uo_Omon_CanESM5_historical_r10i1p1f1_gn_186101-187012.nc',\n",
       " 'http://esgf-node.ornl.gov/thredds/fileServer/css03_data/CMIP6/CMIP/CCCma/CanESM5/historical/r10i1p1f1/Omon/uo/gn/v20190429/uo_Omon_CanESM5_historical_r10i1p1f1_gn_187101-188012.nc',\n",
       " 'http://esgf-node.ornl.gov/thredds/fileServer/css03_data/CMIP6/CMIP/CCCma/CanESM5/historical/r10i1p1f1/Omon/uo/gn/v20190429/uo_Omon_CanESM5_historical_r10i1p1f1_gn_188101-189012.nc',\n",
       " 'http://esgf-node.ornl.gov/thredds/fileServer/css03_data/CMIP6/CMIP/CCCma/CanESM5/historical/r10i1p1f1/Omon/uo/gn/v20190429/uo_Omon_CanESM5_historical_r10i1p1f1_gn_189101-190012.nc',\n",
       " 'http://esgf-node.ornl.gov/thredds/fileServer/css03_data/CMIP6/CMIP/CCCma/CanESM5/historical/r10i1p1f1/Omon/uo/gn/v20190429/uo_Omon_CanESM5_historical_r10i1p1f1_gn_190101-191012.nc',\n",
       " 'http://esgf-node.ornl.gov/thredds/fileServer/css03_data/CMIP6/CMIP/CCCma/CanESM5/historical/r10i1p1f1/Omon/uo/gn/v20190429/uo_Omon_CanESM5_historical_r10i1p1f1_gn_191101-192012.nc',\n",
       " 'http://esgf-node.ornl.gov/thredds/fileServer/css03_data/CMIP6/CMIP/CCCma/CanESM5/historical/r10i1p1f1/Omon/uo/gn/v20190429/uo_Omon_CanESM5_historical_r10i1p1f1_gn_192101-193012.nc',\n",
       " 'http://esgf-node.ornl.gov/thredds/fileServer/css03_data/CMIP6/CMIP/CCCma/CanESM5/historical/r10i1p1f1/Omon/uo/gn/v20190429/uo_Omon_CanESM5_historical_r10i1p1f1_gn_193101-194012.nc',\n",
       " 'http://esgf-node.ornl.gov/thredds/fileServer/css03_data/CMIP6/CMIP/CCCma/CanESM5/historical/r10i1p1f1/Omon/uo/gn/v20190429/uo_Omon_CanESM5_historical_r10i1p1f1_gn_194101-195012.nc',\n",
       " 'http://esgf-node.ornl.gov/thredds/fileServer/css03_data/CMIP6/CMIP/CCCma/CanESM5/historical/r10i1p1f1/Omon/uo/gn/v20190429/uo_Omon_CanESM5_historical_r10i1p1f1_gn_195101-196012.nc',\n",
       " 'http://esgf-node.ornl.gov/thredds/fileServer/css03_data/CMIP6/CMIP/CCCma/CanESM5/historical/r10i1p1f1/Omon/uo/gn/v20190429/uo_Omon_CanESM5_historical_r10i1p1f1_gn_196101-197012.nc',\n",
       " 'http://esgf-node.ornl.gov/thredds/fileServer/css03_data/CMIP6/CMIP/CCCma/CanESM5/historical/r10i1p1f1/Omon/uo/gn/v20190429/uo_Omon_CanESM5_historical_r10i1p1f1_gn_197101-198012.nc',\n",
       " 'http://esgf-node.ornl.gov/thredds/fileServer/css03_data/CMIP6/CMIP/CCCma/CanESM5/historical/r10i1p1f1/Omon/uo/gn/v20190429/uo_Omon_CanESM5_historical_r10i1p1f1_gn_198101-199012.nc',\n",
       " 'http://esgf-node.ornl.gov/thredds/fileServer/css03_data/CMIP6/CMIP/CCCma/CanESM5/historical/r10i1p1f1/Omon/uo/gn/v20190429/uo_Omon_CanESM5_historical_r10i1p1f1_gn_199101-200012.nc',\n",
       " 'http://esgf-node.ornl.gov/thredds/fileServer/css03_data/CMIP6/CMIP/CCCma/CanESM5/historical/r10i1p1f1/Omon/uo/gn/v20190429/uo_Omon_CanESM5_historical_r10i1p1f1_gn_200101-201012.nc',\n",
       " 'http://esgf-node.ornl.gov/thredds/fileServer/css03_data/CMIP6/CMIP/CCCma/CanESM5/historical/r10i1p1f1/Omon/uo/gn/v20190429/uo_Omon_CanESM5_historical_r10i1p1f1_gn_201101-201412.nc']"
      ]
     },
     "execution_count": 18,
     "metadata": {},
     "output_type": "execute_result"
    }
   ],
   "source": [
    "iids = [\"CMIP6.CMIP.CCCma.CanESM5.historical.r10i1p1f1.Omon.uo.gn.v20190429\"]\n",
    "async with ESGFAsyncClient() as client:\n",
    "    res = await client.recipe_data(iids)\n",
    "\n",
    "for iid, data in res.items():\n",
    "    urls = get_sorted_http_urls_from_iid_dict(data)\n",
    "\n",
    "urls"
   ]
  },
  {
   "cell_type": "code",
   "execution_count": 19,
   "id": "b58df43c-b376-4a2e-89d2-292247d0108d",
   "metadata": {},
   "outputs": [
    {
     "name": "stderr",
     "output_type": "stream",
     "text": [
      "100%|██████████| 7/7 [00:00<00:00,  7.08it/s]\n",
      "100%|██████████| 7/7 [00:00<00:00, 12.80it/s]\n"
     ]
    },
    {
     "data": {
      "text/plain": [
       "['http://esgf3.dkrz.de/thredds/fileServer/cmip6/CMIP/BCC/BCC-CSM2-MR/historical/r1i1p1f1/6hrLev/ps/gn/v20181127/ps_6hrLev_BCC-CSM2-MR_historical_r1i1p1f1_gn_195001010000-195412311800.nc',\n",
       " 'http://esgf3.dkrz.de/thredds/fileServer/cmip6/CMIP/BCC/BCC-CSM2-MR/historical/r1i1p1f1/6hrLev/ps/gn/v20181127/ps_6hrLev_BCC-CSM2-MR_historical_r1i1p1f1_gn_195501010000-195912311800.nc',\n",
       " 'http://esgf3.dkrz.de/thredds/fileServer/cmip6/CMIP/BCC/BCC-CSM2-MR/historical/r1i1p1f1/6hrLev/ps/gn/v20181127/ps_6hrLev_BCC-CSM2-MR_historical_r1i1p1f1_gn_196001010000-196412311800.nc',\n",
       " 'http://esgf3.dkrz.de/thredds/fileServer/cmip6/CMIP/BCC/BCC-CSM2-MR/historical/r1i1p1f1/6hrLev/ps/gn/v20181127/ps_6hrLev_BCC-CSM2-MR_historical_r1i1p1f1_gn_196501010000-196912311800.nc',\n",
       " 'http://esgf3.dkrz.de/thredds/fileServer/cmip6/CMIP/BCC/BCC-CSM2-MR/historical/r1i1p1f1/6hrLev/ps/gn/v20181127/ps_6hrLev_BCC-CSM2-MR_historical_r1i1p1f1_gn_197001010000-197412311800.nc',\n",
       " 'http://esgf3.dkrz.de/thredds/fileServer/cmip6/CMIP/BCC/BCC-CSM2-MR/historical/r1i1p1f1/6hrLev/ps/gn/v20181127/ps_6hrLev_BCC-CSM2-MR_historical_r1i1p1f1_gn_197501010000-197912311800.nc',\n",
       " 'http://esgf3.dkrz.de/thredds/fileServer/cmip6/CMIP/BCC/BCC-CSM2-MR/historical/r1i1p1f1/6hrLev/ps/gn/v20181127/ps_6hrLev_BCC-CSM2-MR_historical_r1i1p1f1_gn_198001010000-198412311800.nc',\n",
       " 'http://esgf3.dkrz.de/thredds/fileServer/cmip6/CMIP/BCC/BCC-CSM2-MR/historical/r1i1p1f1/6hrLev/ps/gn/v20181127/ps_6hrLev_BCC-CSM2-MR_historical_r1i1p1f1_gn_198501010000-198912311800.nc',\n",
       " 'http://esgf3.dkrz.de/thredds/fileServer/cmip6/CMIP/BCC/BCC-CSM2-MR/historical/r1i1p1f1/6hrLev/ps/gn/v20181127/ps_6hrLev_BCC-CSM2-MR_historical_r1i1p1f1_gn_199001010000-199412311800.nc',\n",
       " 'http://esgf3.dkrz.de/thredds/fileServer/cmip6/CMIP/BCC/BCC-CSM2-MR/historical/r1i1p1f1/6hrLev/ps/gn/v20181127/ps_6hrLev_BCC-CSM2-MR_historical_r1i1p1f1_gn_199501010000-199912311800.nc',\n",
       " 'http://esgf3.dkrz.de/thredds/fileServer/cmip6/CMIP/BCC/BCC-CSM2-MR/historical/r1i1p1f1/6hrLev/ps/gn/v20181127/ps_6hrLev_BCC-CSM2-MR_historical_r1i1p1f1_gn_200001010000-200412311800.nc',\n",
       " 'http://esgf3.dkrz.de/thredds/fileServer/cmip6/CMIP/BCC/BCC-CSM2-MR/historical/r1i1p1f1/6hrLev/ps/gn/v20181127/ps_6hrLev_BCC-CSM2-MR_historical_r1i1p1f1_gn_200501010000-200912311800.nc',\n",
       " 'http://esgf3.dkrz.de/thredds/fileServer/cmip6/CMIP/BCC/BCC-CSM2-MR/historical/r1i1p1f1/6hrLev/ps/gn/v20181127/ps_6hrLev_BCC-CSM2-MR_historical_r1i1p1f1_gn_201001010000-201412311800.nc']"
      ]
     },
     "execution_count": 19,
     "metadata": {},
     "output_type": "execute_result"
    }
   ],
   "source": [
    "iids = [\"CMIP6.CMIP.BCC.BCC-CSM2-MR.historical.r1i1p1f1.6hrLev.ps.gn.v20181127\"]\n",
    "async with ESGFAsyncClient() as client:\n",
    "    res = await client.recipe_data(iids)\n",
    "\n",
    "for iid, data in res.items():\n",
    "    urls = get_sorted_http_urls_from_iid_dict(data)\n",
    "\n",
    "urls"
   ]
  },
  {
   "cell_type": "code",
   "execution_count": null,
   "id": "85df4d51-6b57-48d1-b15f-ff57f51589c4",
   "metadata": {},
   "outputs": [],
   "source": []
  }
 ],
 "metadata": {
  "kernelspec": {
   "display_name": "Python 3 (ipykernel)",
   "language": "python",
   "name": "python3"
  },
  "language_info": {
   "codemirror_mode": {
    "name": "ipython",
    "version": 3
   },
   "file_extension": ".py",
   "mimetype": "text/x-python",
   "name": "python",
   "nbconvert_exporter": "python",
   "pygments_lexer": "ipython3",
   "version": "3.12.7"
  }
 },
 "nbformat": 4,
 "nbformat_minor": 5
}
